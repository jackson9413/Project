{
 "cells": [
  {
   "cell_type": "code",
   "execution_count": 1,
   "id": "0bad48f6",
   "metadata": {},
   "outputs": [
    {
     "name": "stderr",
     "output_type": "stream",
     "text": [
      "c:\\Users\\jqche\\anaconda3\\lib\\site-packages\\scipy\\__init__.py:146: UserWarning: A NumPy version >=1.16.5 and <1.23.0 is required for this version of SciPy (detected version 1.26.4\n",
      "  warnings.warn(f\"A NumPy version >={np_minversion} and <{np_maxversion}\"\n"
     ]
    }
   ],
   "source": [
    "# read the csv file\n",
    "import pandas as pd\n",
    "import numpy as np\n",
    "import matplotlib.pyplot as plt\n",
    "import seaborn as sns"
   ]
  },
  {
   "cell_type": "code",
   "execution_count": 2,
   "id": "48017b9e",
   "metadata": {},
   "outputs": [],
   "source": [
    "# read the csv file\n",
    "data = pd.read_csv(\"Students.csv\")"
   ]
  },
  {
   "cell_type": "code",
   "execution_count": 3,
   "id": "6e25e10a",
   "metadata": {},
   "outputs": [
    {
     "data": {
      "text/html": [
       "<div>\n",
       "<style scoped>\n",
       "    .dataframe tbody tr th:only-of-type {\n",
       "        vertical-align: middle;\n",
       "    }\n",
       "\n",
       "    .dataframe tbody tr th {\n",
       "        vertical-align: top;\n",
       "    }\n",
       "\n",
       "    .dataframe thead th {\n",
       "        text-align: right;\n",
       "    }\n",
       "</style>\n",
       "<table border=\"1\" class=\"dataframe\">\n",
       "  <thead>\n",
       "    <tr style=\"text-align: right;\">\n",
       "      <th></th>\n",
       "      <th>Student_Name</th>\n",
       "      <th>College_Name</th>\n",
       "      <th>Stream</th>\n",
       "      <th>Year_of_Study</th>\n",
       "      <th>AI_Tools_Used</th>\n",
       "      <th>Daily_Usage_Hours</th>\n",
       "      <th>Use_Cases</th>\n",
       "      <th>Trust_in_AI_Tools</th>\n",
       "      <th>Impact_on_Grades</th>\n",
       "      <th>Do_Professors_Allow_Use</th>\n",
       "      <th>Preferred_AI_Tool</th>\n",
       "      <th>Awareness_Level</th>\n",
       "      <th>Willing_to_Pay_for_Access</th>\n",
       "      <th>State</th>\n",
       "      <th>Device_Used</th>\n",
       "      <th>Internet_Access</th>\n",
       "    </tr>\n",
       "  </thead>\n",
       "  <tbody>\n",
       "    <tr>\n",
       "      <th>0</th>\n",
       "      <td>Aarav</td>\n",
       "      <td>Indian Institute of Information Technology</td>\n",
       "      <td>Engineering</td>\n",
       "      <td>4</td>\n",
       "      <td>Gemini</td>\n",
       "      <td>0.9</td>\n",
       "      <td>Assignments, Coding Help</td>\n",
       "      <td>2</td>\n",
       "      <td>2</td>\n",
       "      <td>No</td>\n",
       "      <td>Copilot</td>\n",
       "      <td>9</td>\n",
       "      <td>Yes</td>\n",
       "      <td>Uttar pradesh</td>\n",
       "      <td>Mobile</td>\n",
       "      <td>Poor</td>\n",
       "    </tr>\n",
       "    <tr>\n",
       "      <th>1</th>\n",
       "      <td>Vivaan</td>\n",
       "      <td>Government Ram Bhajan Rai NES College, Jashpur</td>\n",
       "      <td>Commerce</td>\n",
       "      <td>2</td>\n",
       "      <td>ChatGPT</td>\n",
       "      <td>3.4</td>\n",
       "      <td>Learning new topics</td>\n",
       "      <td>3</td>\n",
       "      <td>-3</td>\n",
       "      <td>Yes</td>\n",
       "      <td>Other</td>\n",
       "      <td>6</td>\n",
       "      <td>No</td>\n",
       "      <td>Chhattisgarh</td>\n",
       "      <td>Laptop</td>\n",
       "      <td>Poor</td>\n",
       "    </tr>\n",
       "    <tr>\n",
       "      <th>2</th>\n",
       "      <td>Aditya</td>\n",
       "      <td>Dolphin PG Institute of BioMedical &amp; Natural</td>\n",
       "      <td>Science</td>\n",
       "      <td>2</td>\n",
       "      <td>Copilot</td>\n",
       "      <td>3.6</td>\n",
       "      <td>MCQ Practice, Projects</td>\n",
       "      <td>5</td>\n",
       "      <td>0</td>\n",
       "      <td>No</td>\n",
       "      <td>Gemini</td>\n",
       "      <td>1</td>\n",
       "      <td>No</td>\n",
       "      <td>Uttarakhand</td>\n",
       "      <td>Tablet</td>\n",
       "      <td>Poor</td>\n",
       "    </tr>\n",
       "    <tr>\n",
       "      <th>3</th>\n",
       "      <td>Vihaan</td>\n",
       "      <td>Shaheed Rajguru College of Applied Sciences for</td>\n",
       "      <td>Arts</td>\n",
       "      <td>2</td>\n",
       "      <td>Copilot</td>\n",
       "      <td>2.9</td>\n",
       "      <td>Content Writing</td>\n",
       "      <td>5</td>\n",
       "      <td>2</td>\n",
       "      <td>Yes</td>\n",
       "      <td>Gemini</td>\n",
       "      <td>5</td>\n",
       "      <td>No</td>\n",
       "      <td>Delhi ncr</td>\n",
       "      <td>Laptop</td>\n",
       "      <td>High</td>\n",
       "    </tr>\n",
       "    <tr>\n",
       "      <th>4</th>\n",
       "      <td>Arjun</td>\n",
       "      <td>Roorkee College of Engineering</td>\n",
       "      <td>Science</td>\n",
       "      <td>1</td>\n",
       "      <td>Gemini</td>\n",
       "      <td>0.9</td>\n",
       "      <td>Doubt Solving, Resume Writing</td>\n",
       "      <td>1</td>\n",
       "      <td>3</td>\n",
       "      <td>Yes</td>\n",
       "      <td>Other</td>\n",
       "      <td>8</td>\n",
       "      <td>Yes</td>\n",
       "      <td>Uttarakhand</td>\n",
       "      <td>Laptop</td>\n",
       "      <td>Medium</td>\n",
       "    </tr>\n",
       "  </tbody>\n",
       "</table>\n",
       "</div>"
      ],
      "text/plain": [
       "  Student_Name                                      College_Name       Stream  \\\n",
       "0        Aarav       Indian Institute of Information Technology   Engineering   \n",
       "1       Vivaan   Government Ram Bhajan Rai NES College, Jashpur      Commerce   \n",
       "2       Aditya     Dolphin PG Institute of BioMedical & Natural       Science   \n",
       "3       Vihaan  Shaheed Rajguru College of Applied Sciences for          Arts   \n",
       "4        Arjun                   Roorkee College of Engineering       Science   \n",
       "\n",
       "   Year_of_Study AI_Tools_Used  Daily_Usage_Hours  \\\n",
       "0              4        Gemini                0.9   \n",
       "1              2       ChatGPT                3.4   \n",
       "2              2       Copilot                3.6   \n",
       "3              2       Copilot                2.9   \n",
       "4              1        Gemini                0.9   \n",
       "\n",
       "                       Use_Cases  Trust_in_AI_Tools  Impact_on_Grades  \\\n",
       "0       Assignments, Coding Help                  2                 2   \n",
       "1            Learning new topics                  3                -3   \n",
       "2         MCQ Practice, Projects                  5                 0   \n",
       "3                Content Writing                  5                 2   \n",
       "4  Doubt Solving, Resume Writing                  1                 3   \n",
       "\n",
       "  Do_Professors_Allow_Use Preferred_AI_Tool  Awareness_Level  \\\n",
       "0                      No           Copilot                9   \n",
       "1                     Yes             Other                6   \n",
       "2                      No            Gemini                1   \n",
       "3                     Yes            Gemini                5   \n",
       "4                     Yes             Other                8   \n",
       "\n",
       "  Willing_to_Pay_for_Access          State Device_Used Internet_Access  \n",
       "0                       Yes  Uttar pradesh      Mobile            Poor  \n",
       "1                        No   Chhattisgarh      Laptop            Poor  \n",
       "2                        No    Uttarakhand      Tablet            Poor  \n",
       "3                        No      Delhi ncr      Laptop            High  \n",
       "4                       Yes    Uttarakhand      Laptop          Medium  "
      ]
     },
     "execution_count": 3,
     "metadata": {},
     "output_type": "execute_result"
    }
   ],
   "source": [
    "# top 5\n",
    "data.head()"
   ]
  },
  {
   "cell_type": "markdown",
   "id": "3f4bcbef",
   "metadata": {},
   "source": [
    "# Single Variable"
   ]
  },
  {
   "cell_type": "markdown",
   "id": "285b4680",
   "metadata": {},
   "source": [
    "## College_Name"
   ]
  },
  {
   "cell_type": "code",
   "execution_count": 4,
   "id": "73c030cc",
   "metadata": {},
   "outputs": [
    {
     "data": {
      "image/png": "[encoded data removed]",
      "text/plain": [
       "<Figure size 864x432 with 1 Axes>"
      ]
     },
     "metadata": {
      "needs_background": "light"
     },
     "output_type": "display_data"
    }
   ],
   "source": [
    "# plot of college name by top 10 \n",
    "plt.figure(figsize=(12, 6))\n",
    "top_colleges = data['College_Name'].value_counts().head(10)\n",
    "sns.barplot(x=top_colleges.values, y=top_colleges.index, palette='coolwarm')\n",
    "plt.title('Top 10 Colleges by Number of Students Using AI Tools')\n",
    "plt.xlabel('Count')\n",
    "plt.ylabel('College Name')\n",
    "plt.xticks(rotation=45)\n",
    "plt.show()"
   ]
  },
  {
   "cell_type": "markdown",
   "id": "a2a4198c",
   "metadata": {},
   "source": [
    "Top 10 universities / colleges surveyed."
   ]
  },
  {
   "cell_type": "code",
   "execution_count": 5,
   "id": "7cf5f2af",
   "metadata": {},
   "outputs": [],
   "source": [
    "# distinct values in College_Name\n",
    "distinct_colleges = data['College_Name'].nunique()"
   ]
  },
  {
   "cell_type": "code",
   "execution_count": 6,
   "id": "01f9d518",
   "metadata": {},
   "outputs": [
    {
     "name": "stdout",
     "output_type": "stream",
     "text": [
      "Number of distinct colleges: 1246\n"
     ]
    }
   ],
   "source": [
    "# print out the number of distinct colleges\n",
    "print(f'Number of distinct colleges: {distinct_colleges}')"
   ]
  },
  {
   "cell_type": "markdown",
   "id": "ec07b247",
   "metadata": {},
   "source": [
    "There are 1246 distinct universities / colleges. "
   ]
  },
  {
   "cell_type": "markdown",
   "id": "d504d018",
   "metadata": {},
   "source": [
    "## Stream"
   ]
  },
  {
   "cell_type": "code",
   "execution_count": 8,
   "id": "9d973758",
   "metadata": {},
   "outputs": [
    {
     "data": {
      "image/png": "[encoded data removed]",
      "text/plain": [
       "<Figure size 864x432 with 1 Axes>"
      ]
     },
     "metadata": {
      "needs_background": "light"
     },
     "output_type": "display_data"
    }
   ],
   "source": [
    "# plot of college name by top 10 \n",
    "plt.figure(figsize=(12, 6))\n",
    "top_colleges = data['Stream'].value_counts().head(10)\n",
    "sns.barplot(x=top_colleges.values, y=top_colleges.index, palette='coolwarm')\n",
    "plt.title('Top 10 Streams by Number of Students Using AI Tools')\n",
    "plt.xlabel('Count')\n",
    "plt.ylabel('Stream')\n",
    "plt.xticks(rotation=45)\n",
    "plt.show()"
   ]
  },
  {
   "cell_type": "markdown",
   "id": "643a887f",
   "metadata": {},
   "source": [
    "Top 10 most streams surveyed."
   ]
  },
  {
   "cell_type": "code",
   "execution_count": null,
   "id": "72aed1e0",
   "metadata": {},
   "outputs": [],
   "source": []
  }
 ],
 "metadata": {
  "kernelspec": {
   "display_name": "base",
   "language": "python",
   "name": "python3"
  },
  "language_info": {
   "codemirror_mode": {
    "name": "ipython",
    "version": 3
   },
   "file_extension": ".py",
   "mimetype": "text/x-python",
   "name": "python",
   "nbconvert_exporter": "python",
   "pygments_lexer": "ipython3",
   "version": "3.9.12"
  }
 },
 "nbformat": 4,
 "nbformat_minor": 5
}
