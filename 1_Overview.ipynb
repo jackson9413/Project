{
 "cells": [
  {
   "cell_type": "code",
   "execution_count": 13,
   "id": "3c586de0",
   "metadata": {},
   "outputs": [],
   "source": [
    "# import necessary libraries\n",
    "import pandas as pd\n",
    "import numpy as np"
   ]
  },
  {
   "cell_type": "code",
   "execution_count": 14,
   "id": "f3922b1c",
   "metadata": {},
   "outputs": [],
   "source": [
    "# read the csv file with encoding\n",
    "data = pd.read_csv('Students.csv', encoding='latin-1')"
   ]
  },
  {
   "cell_type": "markdown",
   "id": "fcdb239e",
   "metadata": {},
   "source": [
    "# Top 5"
   ]
  },
  {
   "cell_type": "code",
   "execution_count": 15,
   "id": "e8be1e6d",
   "metadata": {},
   "outputs": [
    {
     "data": {
      "text/html": [
       "<div>\n",
       "<style scoped>\n",
       "    .dataframe tbody tr th:only-of-type {\n",
       "        vertical-align: middle;\n",
       "    }\n",
       "\n",
       "    .dataframe tbody tr th {\n",
       "        vertical-align: top;\n",
       "    }\n",
       "\n",
       "    .dataframe thead th {\n",
       "        text-align: right;\n",
       "    }\n",
       "</style>\n",
       "<table border=\"1\" class=\"dataframe\">\n",
       "  <thead>\n",
       "    <tr style=\"text-align: right;\">\n",
       "      <th></th>\n",
       "      <th>Student_Name</th>\n",
       "      <th>College_Name</th>\n",
       "      <th>Stream</th>\n",
       "      <th>Year_of_Study</th>\n",
       "      <th>AI_Tools_Used</th>\n",
       "      <th>Daily_Usage_Hours</th>\n",
       "      <th>Use_Cases</th>\n",
       "      <th>Trust_in_AI_Tools</th>\n",
       "      <th>Impact_on_Grades</th>\n",
       "      <th>Do_Professors_Allow_Use</th>\n",
       "      <th>Preferred_AI_Tool</th>\n",
       "      <th>Awareness_Level</th>\n",
       "      <th>Willing_to_Pay_for_Access</th>\n",
       "      <th>State</th>\n",
       "      <th>Device_Used</th>\n",
       "      <th>Internet_Access</th>\n",
       "    </tr>\n",
       "  </thead>\n",
       "  <tbody>\n",
       "    <tr>\n",
       "      <th>0</th>\n",
       "      <td>Aarav</td>\n",
       "      <td>Indian Institute of Information Technology</td>\n",
       "      <td>Engineering</td>\n",
       "      <td>4</td>\n",
       "      <td>Gemini</td>\n",
       "      <td>0.9</td>\n",
       "      <td>Assignments, Coding Help</td>\n",
       "      <td>2</td>\n",
       "      <td>2</td>\n",
       "      <td>No</td>\n",
       "      <td>Copilot</td>\n",
       "      <td>9</td>\n",
       "      <td>Yes</td>\n",
       "      <td>Uttar pradesh</td>\n",
       "      <td>Mobile</td>\n",
       "      <td>Poor</td>\n",
       "    </tr>\n",
       "    <tr>\n",
       "      <th>1</th>\n",
       "      <td>Vivaan</td>\n",
       "      <td>Government Ram Bhajan Rai NES College, Jashpur</td>\n",
       "      <td>Commerce</td>\n",
       "      <td>2</td>\n",
       "      <td>ChatGPT</td>\n",
       "      <td>3.4</td>\n",
       "      <td>Learning new topics</td>\n",
       "      <td>3</td>\n",
       "      <td>-3</td>\n",
       "      <td>Yes</td>\n",
       "      <td>Other</td>\n",
       "      <td>6</td>\n",
       "      <td>No</td>\n",
       "      <td>Chhattisgarh</td>\n",
       "      <td>Laptop</td>\n",
       "      <td>Poor</td>\n",
       "    </tr>\n",
       "    <tr>\n",
       "      <th>2</th>\n",
       "      <td>Aditya</td>\n",
       "      <td>Dolphin PG Institute of BioMedical &amp; Natural</td>\n",
       "      <td>Science</td>\n",
       "      <td>2</td>\n",
       "      <td>Copilot</td>\n",
       "      <td>3.6</td>\n",
       "      <td>MCQ Practice, Projects</td>\n",
       "      <td>5</td>\n",
       "      <td>0</td>\n",
       "      <td>No</td>\n",
       "      <td>Gemini</td>\n",
       "      <td>1</td>\n",
       "      <td>No</td>\n",
       "      <td>Uttarakhand</td>\n",
       "      <td>Tablet</td>\n",
       "      <td>Poor</td>\n",
       "    </tr>\n",
       "    <tr>\n",
       "      <th>3</th>\n",
       "      <td>Vihaan</td>\n",
       "      <td>Shaheed Rajguru College of Applied Sciences for</td>\n",
       "      <td>Arts</td>\n",
       "      <td>2</td>\n",
       "      <td>Copilot</td>\n",
       "      <td>2.9</td>\n",
       "      <td>Content Writing</td>\n",
       "      <td>5</td>\n",
       "      <td>2</td>\n",
       "      <td>Yes</td>\n",
       "      <td>Gemini</td>\n",
       "      <td>5</td>\n",
       "      <td>No</td>\n",
       "      <td>Delhi ncr</td>\n",
       "      <td>Laptop</td>\n",
       "      <td>High</td>\n",
       "    </tr>\n",
       "    <tr>\n",
       "      <th>4</th>\n",
       "      <td>Arjun</td>\n",
       "      <td>Roorkee College of Engineering</td>\n",
       "      <td>Science</td>\n",
       "      <td>1</td>\n",
       "      <td>Gemini</td>\n",
       "      <td>0.9</td>\n",
       "      <td>Doubt Solving, Resume Writing</td>\n",
       "      <td>1</td>\n",
       "      <td>3</td>\n",
       "      <td>Yes</td>\n",
       "      <td>Other</td>\n",
       "      <td>8</td>\n",
       "      <td>Yes</td>\n",
       "      <td>Uttarakhand</td>\n",
       "      <td>Laptop</td>\n",
       "      <td>Medium</td>\n",
       "    </tr>\n",
       "  </tbody>\n",
       "</table>\n",
       "</div>"
      ],
      "text/plain": [
       "  Student_Name                                      College_Name       Stream  \\\n",
       "0        Aarav       Indian Institute of Information Technology   Engineering   \n",
       "1       Vivaan   Government Ram Bhajan Rai NES College, Jashpur      Commerce   \n",
       "2       Aditya     Dolphin PG Institute of BioMedical & Natural       Science   \n",
       "3       Vihaan  Shaheed Rajguru College of Applied Sciences for          Arts   \n",
       "4        Arjun                   Roorkee College of Engineering       Science   \n",
       "\n",
       "   Year_of_Study AI_Tools_Used  Daily_Usage_Hours  \\\n",
       "0              4        Gemini                0.9   \n",
       "1              2       ChatGPT                3.4   \n",
       "2              2       Copilot                3.6   \n",
       "3              2       Copilot                2.9   \n",
       "4              1        Gemini                0.9   \n",
       "\n",
       "                       Use_Cases  Trust_in_AI_Tools  Impact_on_Grades  \\\n",
       "0       Assignments, Coding Help                  2                 2   \n",
       "1            Learning new topics                  3                -3   \n",
       "2         MCQ Practice, Projects                  5                 0   \n",
       "3                Content Writing                  5                 2   \n",
       "4  Doubt Solving, Resume Writing                  1                 3   \n",
       "\n",
       "  Do_Professors_Allow_Use Preferred_AI_Tool  Awareness_Level  \\\n",
       "0                      No           Copilot                9   \n",
       "1                     Yes             Other                6   \n",
       "2                      No            Gemini                1   \n",
       "3                     Yes            Gemini                5   \n",
       "4                     Yes             Other                8   \n",
       "\n",
       "  Willing_to_Pay_for_Access          State Device_Used Internet_Access  \n",
       "0                       Yes  Uttar pradesh      Mobile            Poor  \n",
       "1                        No   Chhattisgarh      Laptop            Poor  \n",
       "2                        No    Uttarakhand      Tablet            Poor  \n",
       "3                        No      Delhi ncr      Laptop            High  \n",
       "4                       Yes    Uttarakhand      Laptop          Medium  "
      ]
     },
     "execution_count": 15,
     "metadata": {},
     "output_type": "execute_result"
    }
   ],
   "source": [
    "# top 5\n",
    "data.head()"
   ]
  },
  {
   "cell_type": "markdown",
   "id": "b812b22b",
   "metadata": {},
   "source": [
    "# Dimension"
   ]
  },
  {
   "cell_type": "code",
   "execution_count": 16,
   "id": "c3c262b1",
   "metadata": {},
   "outputs": [
    {
     "data": {
      "text/plain": [
       "(3614, 16)"
      ]
     },
     "execution_count": 16,
     "metadata": {},
     "output_type": "execute_result"
    }
   ],
   "source": [
    "# data shape\n",
    "data.shape"
   ]
  },
  {
   "cell_type": "markdown",
   "id": "1dda4d6c",
   "metadata": {},
   "source": [
    "There are 3614 rows and 16 columns."
   ]
  },
  {
   "cell_type": "markdown",
   "id": "68813ed2",
   "metadata": {},
   "source": [
    "# Data Type"
   ]
  },
  {
   "cell_type": "code",
   "execution_count": 17,
   "id": "bb333a72",
   "metadata": {},
   "outputs": [
    {
     "data": {
      "text/plain": [
       "Student_Name                  object\n",
       "College_Name                  object\n",
       "Stream                        object\n",
       "Year_of_Study                  int64\n",
       "AI_Tools_Used                 object\n",
       "Daily_Usage_Hours            float64\n",
       "Use_Cases                     object\n",
       "Trust_in_AI_Tools              int64\n",
       "Impact_on_Grades               int64\n",
       "Do_Professors_Allow_Use       object\n",
       "Preferred_AI_Tool             object\n",
       "Awareness_Level                int64\n",
       "Willing_to_Pay_for_Access     object\n",
       "State                         object\n",
       "Device_Used                   object\n",
       "Internet_Access               object\n",
       "dtype: object"
      ]
     },
     "execution_count": 17,
     "metadata": {},
     "output_type": "execute_result"
    }
   ],
   "source": [
    "# data types\n",
    "data.dtypes"
   ]
  },
  {
   "cell_type": "markdown",
   "id": "bf21c46a",
   "metadata": {},
   "source": [
    "# Summary"
   ]
  },
  {
   "cell_type": "markdown",
   "id": "42303036",
   "metadata": {},
   "source": [
    "## Character"
   ]
  },
  {
   "cell_type": "code",
   "execution_count": 18,
   "id": "f6ca5154",
   "metadata": {},
   "outputs": [
    {
     "data": {
      "text/html": [
       "<div>\n",
       "<style scoped>\n",
       "    .dataframe tbody tr th:only-of-type {\n",
       "        vertical-align: middle;\n",
       "    }\n",
       "\n",
       "    .dataframe tbody tr th {\n",
       "        vertical-align: top;\n",
       "    }\n",
       "\n",
       "    .dataframe thead th {\n",
       "        text-align: right;\n",
       "    }\n",
       "</style>\n",
       "<table border=\"1\" class=\"dataframe\">\n",
       "  <thead>\n",
       "    <tr style=\"text-align: right;\">\n",
       "      <th></th>\n",
       "      <th>Student_Name</th>\n",
       "      <th>College_Name</th>\n",
       "      <th>Stream</th>\n",
       "      <th>AI_Tools_Used</th>\n",
       "      <th>Use_Cases</th>\n",
       "      <th>Do_Professors_Allow_Use</th>\n",
       "      <th>Preferred_AI_Tool</th>\n",
       "      <th>Willing_to_Pay_for_Access</th>\n",
       "      <th>State</th>\n",
       "      <th>Device_Used</th>\n",
       "      <th>Internet_Access</th>\n",
       "    </tr>\n",
       "  </thead>\n",
       "  <tbody>\n",
       "    <tr>\n",
       "      <th>count</th>\n",
       "      <td>3614</td>\n",
       "      <td>3614</td>\n",
       "      <td>3614</td>\n",
       "      <td>3614</td>\n",
       "      <td>3614</td>\n",
       "      <td>3614</td>\n",
       "      <td>3614</td>\n",
       "      <td>3614</td>\n",
       "      <td>2000</td>\n",
       "      <td>3614</td>\n",
       "      <td>3614</td>\n",
       "    </tr>\n",
       "    <tr>\n",
       "      <th>unique</th>\n",
       "      <td>40</td>\n",
       "      <td>1246</td>\n",
       "      <td>10</td>\n",
       "      <td>9</td>\n",
       "      <td>333</td>\n",
       "      <td>2</td>\n",
       "      <td>6</td>\n",
       "      <td>2</td>\n",
       "      <td>34</td>\n",
       "      <td>3</td>\n",
       "      <td>3</td>\n",
       "    </tr>\n",
       "    <tr>\n",
       "      <th>top</th>\n",
       "      <td>Aarav</td>\n",
       "      <td>National Institute of Technology</td>\n",
       "      <td>Science</td>\n",
       "      <td>ChatGPT</td>\n",
       "      <td>Assignments, Coding Help</td>\n",
       "      <td>No</td>\n",
       "      <td>ChatGPT</td>\n",
       "      <td>No</td>\n",
       "      <td>Maharashtra</td>\n",
       "      <td>Laptop</td>\n",
       "      <td>Medium</td>\n",
       "    </tr>\n",
       "    <tr>\n",
       "      <th>freq</th>\n",
       "      <td>91</td>\n",
       "      <td>231</td>\n",
       "      <td>593</td>\n",
       "      <td>626</td>\n",
       "      <td>534</td>\n",
       "      <td>1886</td>\n",
       "      <td>859</td>\n",
       "      <td>1811</td>\n",
       "      <td>106</td>\n",
       "      <td>1336</td>\n",
       "      <td>1260</td>\n",
       "    </tr>\n",
       "  </tbody>\n",
       "</table>\n",
       "</div>"
      ],
      "text/plain": [
       "       Student_Name                       College_Name   Stream AI_Tools_Used  \\\n",
       "count          3614                               3614     3614          3614   \n",
       "unique           40                               1246       10             9   \n",
       "top           Aarav  National Institute of Technology   Science       ChatGPT   \n",
       "freq             91                                231      593           626   \n",
       "\n",
       "                       Use_Cases Do_Professors_Allow_Use Preferred_AI_Tool  \\\n",
       "count                       3614                    3614              3614   \n",
       "unique                       333                       2                 6   \n",
       "top     Assignments, Coding Help                      No           ChatGPT   \n",
       "freq                         534                    1886               859   \n",
       "\n",
       "       Willing_to_Pay_for_Access        State Device_Used Internet_Access  \n",
       "count                       3614         2000        3614            3614  \n",
       "unique                         2           34           3               3  \n",
       "top                           No  Maharashtra      Laptop          Medium  \n",
       "freq                        1811          106        1336            1260  "
      ]
     },
     "execution_count": 18,
     "metadata": {},
     "output_type": "execute_result"
    }
   ],
   "source": [
    "# summary for categorical variables\n",
    "data.describe(include=['object'])"
   ]
  },
  {
   "cell_type": "markdown",
   "id": "afb8f5a8",
   "metadata": {},
   "source": [
    "## Numeric"
   ]
  },
  {
   "cell_type": "code",
   "execution_count": 19,
   "id": "4485bfc1",
   "metadata": {},
   "outputs": [
    {
     "data": {
      "text/html": [
       "<div>\n",
       "<style scoped>\n",
       "    .dataframe tbody tr th:only-of-type {\n",
       "        vertical-align: middle;\n",
       "    }\n",
       "\n",
       "    .dataframe tbody tr th {\n",
       "        vertical-align: top;\n",
       "    }\n",
       "\n",
       "    .dataframe thead th {\n",
       "        text-align: right;\n",
       "    }\n",
       "</style>\n",
       "<table border=\"1\" class=\"dataframe\">\n",
       "  <thead>\n",
       "    <tr style=\"text-align: right;\">\n",
       "      <th></th>\n",
       "      <th>Year_of_Study</th>\n",
       "      <th>Daily_Usage_Hours</th>\n",
       "      <th>Trust_in_AI_Tools</th>\n",
       "      <th>Impact_on_Grades</th>\n",
       "      <th>Awareness_Level</th>\n",
       "    </tr>\n",
       "  </thead>\n",
       "  <tbody>\n",
       "    <tr>\n",
       "      <th>count</th>\n",
       "      <td>3614.000000</td>\n",
       "      <td>3614.000000</td>\n",
       "      <td>3614.000000</td>\n",
       "      <td>3614.000000</td>\n",
       "      <td>3614.000000</td>\n",
       "    </tr>\n",
       "    <tr>\n",
       "      <th>mean</th>\n",
       "      <td>2.472883</td>\n",
       "      <td>2.559685</td>\n",
       "      <td>3.023243</td>\n",
       "      <td>0.003320</td>\n",
       "      <td>5.828445</td>\n",
       "    </tr>\n",
       "    <tr>\n",
       "      <th>std</th>\n",
       "      <td>1.107912</td>\n",
       "      <td>1.213319</td>\n",
       "      <td>1.436934</td>\n",
       "      <td>2.370706</td>\n",
       "      <td>2.925481</td>\n",
       "    </tr>\n",
       "    <tr>\n",
       "      <th>min</th>\n",
       "      <td>1.000000</td>\n",
       "      <td>0.500000</td>\n",
       "      <td>1.000000</td>\n",
       "      <td>-5.000000</td>\n",
       "      <td>1.000000</td>\n",
       "    </tr>\n",
       "    <tr>\n",
       "      <th>25%</th>\n",
       "      <td>2.000000</td>\n",
       "      <td>1.500000</td>\n",
       "      <td>2.000000</td>\n",
       "      <td>-2.000000</td>\n",
       "      <td>3.000000</td>\n",
       "    </tr>\n",
       "    <tr>\n",
       "      <th>50%</th>\n",
       "      <td>2.000000</td>\n",
       "      <td>2.600000</td>\n",
       "      <td>3.000000</td>\n",
       "      <td>0.000000</td>\n",
       "      <td>6.000000</td>\n",
       "    </tr>\n",
       "    <tr>\n",
       "      <th>75%</th>\n",
       "      <td>3.000000</td>\n",
       "      <td>3.600000</td>\n",
       "      <td>4.000000</td>\n",
       "      <td>2.000000</td>\n",
       "      <td>8.000000</td>\n",
       "    </tr>\n",
       "    <tr>\n",
       "      <th>max</th>\n",
       "      <td>4.000000</td>\n",
       "      <td>5.000000</td>\n",
       "      <td>5.000000</td>\n",
       "      <td>5.000000</td>\n",
       "      <td>10.000000</td>\n",
       "    </tr>\n",
       "  </tbody>\n",
       "</table>\n",
       "</div>"
      ],
      "text/plain": [
       "       Year_of_Study  Daily_Usage_Hours  Trust_in_AI_Tools  Impact_on_Grades  \\\n",
       "count    3614.000000        3614.000000        3614.000000       3614.000000   \n",
       "mean        2.472883           2.559685           3.023243          0.003320   \n",
       "std         1.107912           1.213319           1.436934          2.370706   \n",
       "min         1.000000           0.500000           1.000000         -5.000000   \n",
       "25%         2.000000           1.500000           2.000000         -2.000000   \n",
       "50%         2.000000           2.600000           3.000000          0.000000   \n",
       "75%         3.000000           3.600000           4.000000          2.000000   \n",
       "max         4.000000           5.000000           5.000000          5.000000   \n",
       "\n",
       "       Awareness_Level  \n",
       "count      3614.000000  \n",
       "mean          5.828445  \n",
       "std           2.925481  \n",
       "min           1.000000  \n",
       "25%           3.000000  \n",
       "50%           6.000000  \n",
       "75%           8.000000  \n",
       "max          10.000000  "
      ]
     },
     "execution_count": 19,
     "metadata": {},
     "output_type": "execute_result"
    }
   ],
   "source": [
    "# summary statistics\n",
    "data.describe()"
   ]
  },
  {
   "cell_type": "markdown",
   "id": "289e3aff",
   "metadata": {},
   "source": [
    "# NULL Values"
   ]
  },
  {
   "cell_type": "code",
   "execution_count": 20,
   "id": "73afc8b8",
   "metadata": {},
   "outputs": [
    {
     "data": {
      "text/plain": [
       "Student_Name                    0\n",
       "College_Name                    0\n",
       "Stream                          0\n",
       "Year_of_Study                   0\n",
       "AI_Tools_Used                   0\n",
       "Daily_Usage_Hours               0\n",
       "Use_Cases                       0\n",
       "Trust_in_AI_Tools               0\n",
       "Impact_on_Grades                0\n",
       "Do_Professors_Allow_Use         0\n",
       "Preferred_AI_Tool               0\n",
       "Awareness_Level                 0\n",
       "Willing_to_Pay_for_Access       0\n",
       "State                        1614\n",
       "Device_Used                     0\n",
       "Internet_Access                 0\n",
       "dtype: int64"
      ]
     },
     "execution_count": 20,
     "metadata": {},
     "output_type": "execute_result"
    }
   ],
   "source": [
    "# missing values\n",
    "data.isnull().sum()"
   ]
  },
  {
   "cell_type": "markdown",
   "id": "0cfc6212",
   "metadata": {},
   "source": [
    "State is almost 50% with NULL values. Thus drop. But other columns have zero NULL values."
   ]
  },
  {
   "cell_type": "markdown",
   "id": "c2e34122",
   "metadata": {},
   "source": [
    "# Duplicates"
   ]
  },
  {
   "cell_type": "code",
   "execution_count": 21,
   "id": "6db9309f",
   "metadata": {},
   "outputs": [
    {
     "name": "stdout",
     "output_type": "stream",
     "text": [
      "No duplicate rows found in the dataset.\n"
     ]
    }
   ],
   "source": [
    "# check duplicates\n",
    "duplicates = data.duplicated().sum()\n",
    "if duplicates > 0:\n",
    "    print(f\"Found {duplicates} duplicate rows in the dataset.\")\n",
    "else:\n",
    "    print(\"No duplicate rows found in the dataset.\")"
   ]
  },
  {
   "cell_type": "markdown",
   "id": "017f064a",
   "metadata": {},
   "source": [
    "There is no duplications."
   ]
  },
  {
   "cell_type": "markdown",
   "id": "d43560a1",
   "metadata": {},
   "source": []
  }
 ],
 "metadata": {
  "kernelspec": {
   "display_name": "base",
   "language": "python",
   "name": "python3"
  },
  "language_info": {
   "codemirror_mode": {
    "name": "ipython",
    "version": 3
   },
   "file_extension": ".py",
   "mimetype": "text/x-python",
   "name": "python",
   "nbconvert_exporter": "python",
   "pygments_lexer": "ipython3",
   "version": "3.12.7"
  }
 },
 "nbformat": 4,
 "nbformat_minor": 5
}
